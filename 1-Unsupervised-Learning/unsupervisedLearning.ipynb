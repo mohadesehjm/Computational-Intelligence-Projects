{
  "nbformat": 4,
  "nbformat_minor": 0,
  "metadata": {
    "colab": {
      "name": "unsupervisedLearning.ipynb",
      "provenance": []
    },
    "kernelspec": {
      "name": "python3",
      "display_name": "Python 3"
    },
    "language_info": {
      "name": "python"
    },
    "accelerator": "GPU"
  },
  "cells": [
    {
      "cell_type": "code",
      "metadata": {
        "id": "C-J9ilm-byx-"
      },
      "source": [
        "from keras.datasets import mnist\n",
        "import matplotlib.pyplot as plt\n",
        "import numpy as np\n",
        "from sklearn.metrics.cluster import rand_score\n"
      ],
      "execution_count": 2,
      "outputs": []
    },
    {
      "cell_type": "code",
      "metadata": {
        "colab": {
          "base_uri": "https://localhost:8080/"
        },
        "id": "yiltm6i1aKca",
        "outputId": "f7cb0373-f35d-4563-e1a5-c7261c5151de"
      },
      "source": [
        "!pip install --upgrade scikit-learn\n"
      ],
      "execution_count": 1,
      "outputs": [
        {
          "output_type": "stream",
          "name": "stdout",
          "text": [
            "Requirement already satisfied: scikit-learn in /usr/local/lib/python3.7/dist-packages (0.22.2.post1)\n",
            "Collecting scikit-learn\n",
            "  Downloading scikit_learn-1.0.1-cp37-cp37m-manylinux_2_12_x86_64.manylinux2010_x86_64.whl (23.2 MB)\n",
            "\u001b[K     |████████████████████████████████| 23.2 MB 1.7 MB/s \n",
            "\u001b[?25hCollecting threadpoolctl>=2.0.0\n",
            "  Downloading threadpoolctl-3.0.0-py3-none-any.whl (14 kB)\n",
            "Requirement already satisfied: joblib>=0.11 in /usr/local/lib/python3.7/dist-packages (from scikit-learn) (1.0.1)\n",
            "Requirement already satisfied: scipy>=1.1.0 in /usr/local/lib/python3.7/dist-packages (from scikit-learn) (1.4.1)\n",
            "Requirement already satisfied: numpy>=1.14.6 in /usr/local/lib/python3.7/dist-packages (from scikit-learn) (1.19.5)\n",
            "Installing collected packages: threadpoolctl, scikit-learn\n",
            "  Attempting uninstall: scikit-learn\n",
            "    Found existing installation: scikit-learn 0.22.2.post1\n",
            "    Uninstalling scikit-learn-0.22.2.post1:\n",
            "      Successfully uninstalled scikit-learn-0.22.2.post1\n",
            "Successfully installed scikit-learn-1.0.1 threadpoolctl-3.0.0\n"
          ]
        }
      ]
    },
    {
      "cell_type": "code",
      "metadata": {
        "id": "7WwgJuPjP_ZZ"
      },
      "source": [
        "from sklearn import metrics\n",
        "\n",
        "def purity_score(y_true, y_pred):\n",
        "    contingency_matrix = metrics.cluster.contingency_matrix(y_true, y_pred)\n",
        "    return np.sum(np.amax(contingency_matrix, axis=0)) / np.sum(contingency_matrix) "
      ],
      "execution_count": 3,
      "outputs": []
    },
    {
      "cell_type": "code",
      "metadata": {
        "id": "ztWuKV5db5wL",
        "colab": {
          "base_uri": "https://localhost:8080/"
        },
        "outputId": "ea99581f-d1b1-4fb2-ecdf-46de0eaa9e60"
      },
      "source": [
        "(x_train, y_train), (x_test, y_test) = mnist.load_data()\n"
      ],
      "execution_count": 4,
      "outputs": [
        {
          "output_type": "stream",
          "name": "stdout",
          "text": [
            "Downloading data from https://storage.googleapis.com/tensorflow/tf-keras-datasets/mnist.npz\n",
            "11493376/11490434 [==============================] - 0s 0us/step\n",
            "11501568/11490434 [==============================] - 0s 0us/step\n"
          ]
        }
      ]
    },
    {
      "cell_type": "code",
      "metadata": {
        "colab": {
          "base_uri": "https://localhost:8080/"
        },
        "id": "orQrYqdfb7Vo",
        "outputId": "05c78bcb-c77c-4dbf-95e6-3fd5c5d08ddf"
      },
      "source": [
        "print(x_train.shape)\n",
        "print(x_test.shape)\n",
        "print(y_train.shape)\n",
        "print(y_test.shape)\n",
        "print(x_train.min())\n",
        "print(x_train.max())\n",
        "print(type(x_train))"
      ],
      "execution_count": 5,
      "outputs": [
        {
          "output_type": "stream",
          "name": "stdout",
          "text": [
            "(60000, 28, 28)\n",
            "(10000, 28, 28)\n",
            "(60000,)\n",
            "(10000,)\n",
            "0\n",
            "255\n",
            "<class 'numpy.ndarray'>\n"
          ]
        }
      ]
    },
    {
      "cell_type": "code",
      "metadata": {
        "id": "M5s38rQFe5Rb"
      },
      "source": [
        "x_train = x_train.astype('float32') \n",
        "x_test = x_test.astype('float32')\n",
        "# Normalization\n",
        "x_train = x_train/255.0\n",
        "x_test = x_test/255.0"
      ],
      "execution_count": 6,
      "outputs": []
    },
    {
      "cell_type": "code",
      "metadata": {
        "colab": {
          "base_uri": "https://localhost:8080/"
        },
        "id": "NM9TB23cgEYy",
        "outputId": "854da93a-a28a-4109-fbd1-34cecbaffce5"
      },
      "source": [
        "X_train = x_train.reshape(len(x_train),-1)\n",
        "X_test = x_test.reshape(len(x_test),-1)\n",
        "print(X_train.shape)\n",
        "print(X_test.shape)"
      ],
      "execution_count": 7,
      "outputs": [
        {
          "output_type": "stream",
          "name": "stdout",
          "text": [
            "(60000, 784)\n",
            "(10000, 784)\n"
          ]
        }
      ]
    },
    {
      "cell_type": "markdown",
      "metadata": {
        "id": "zgHrzZE0bWeb"
      },
      "source": [
        "k means"
      ]
    },
    {
      "cell_type": "code",
      "metadata": {
        "colab": {
          "base_uri": "https://localhost:8080/"
        },
        "id": "We3BIm09ig4i",
        "outputId": "0a516d49-b743-442a-fe89-8b60a4395d19"
      },
      "source": [
        "from sklearn.cluster import KMeans\n",
        "\n",
        "# kmeanModel1 = KMeans(n_clusters=10,init = 'k-means++')\n",
        "kmeanModel1 = KMeans(n_clusters=10,n_init=5,max_iter=100,random_state=55,algorithm='auto',verbose=0)\n",
        "kmeanModel1.fit(X_train)"
      ],
      "execution_count": null,
      "outputs": [
        {
          "output_type": "execute_result",
          "data": {
            "text/plain": [
              "KMeans(max_iter=100, n_clusters=10, n_init=5, random_state=55)"
            ]
          },
          "metadata": {},
          "execution_count": 8
        }
      ]
    },
    {
      "cell_type": "code",
      "metadata": {
        "id": "ARt0i9M-kPMk"
      },
      "source": [
        "y_kmeans1 = kmeanModel1.predict(X_train)\n",
        "centers = kmeanModel1.cluster_centers_"
      ],
      "execution_count": null,
      "outputs": []
    },
    {
      "cell_type": "code",
      "metadata": {
        "colab": {
          "base_uri": "https://localhost:8080/"
        },
        "id": "BOTptZ9l7C53",
        "outputId": "41a72798-c856-4b97-d14f-c10f449cfbee"
      },
      "source": [
        "purity_score(y_train,y_kmeans1)"
      ],
      "execution_count": null,
      "outputs": [
        {
          "output_type": "execute_result",
          "data": {
            "text/plain": [
              "0.5910166666666666"
            ]
          },
          "metadata": {},
          "execution_count": 10
        }
      ]
    },
    {
      "cell_type": "code",
      "metadata": {
        "colab": {
          "base_uri": "https://localhost:8080/"
        },
        "id": "40c73TtstzkH",
        "outputId": "cce7d33f-30b1-4710-8c52-2b0471ed3df7"
      },
      "source": [
        "rand_score(y_kmeans1,y_train)"
      ],
      "execution_count": null,
      "outputs": [
        {
          "output_type": "execute_result",
          "data": {
            "text/plain": [
              "0.879543699061651"
            ]
          },
          "metadata": {},
          "execution_count": 11
        }
      ]
    },
    {
      "cell_type": "code",
      "metadata": {
        "colab": {
          "base_uri": "https://localhost:8080/"
        },
        "id": "bh4-fkxRQqx9",
        "outputId": "6a777db9-37bd-43e0-e010-145b93b5041a"
      },
      "source": [
        "kmeanModel2 = KMeans(n_clusters=10,init = 'random')\n",
        "kmeanModel2.fit(X_train)"
      ],
      "execution_count": null,
      "outputs": [
        {
          "output_type": "execute_result",
          "data": {
            "text/plain": [
              "KMeans(init='random', n_clusters=10)"
            ]
          },
          "metadata": {},
          "execution_count": 12
        }
      ]
    },
    {
      "cell_type": "code",
      "metadata": {
        "id": "PajbHdB5QyH_"
      },
      "source": [
        "y_kmeans2 = kmeanModel2.predict(X_train)\n",
        "centers = kmeanModel2.cluster_centers_"
      ],
      "execution_count": null,
      "outputs": []
    },
    {
      "cell_type": "code",
      "metadata": {
        "colab": {
          "base_uri": "https://localhost:8080/"
        },
        "id": "SsRFYDPIQ9oP",
        "outputId": "043d019c-88cf-4338-de8e-c9bdbd940c9e"
      },
      "source": [
        "purity_score(y_train,y_kmeans2)"
      ],
      "execution_count": null,
      "outputs": [
        {
          "output_type": "execute_result",
          "data": {
            "text/plain": [
              "0.5909666666666666"
            ]
          },
          "metadata": {},
          "execution_count": 14
        }
      ]
    },
    {
      "cell_type": "code",
      "metadata": {
        "colab": {
          "base_uri": "https://localhost:8080/"
        },
        "id": "C1_8bJHFRBhB",
        "outputId": "5bc5d99c-7190-4709-fc60-0e4d237fd62c"
      },
      "source": [
        "rand_score(y_kmeans2,y_train)"
      ],
      "execution_count": null,
      "outputs": [
        {
          "output_type": "execute_result",
          "data": {
            "text/plain": [
              "0.8795313488558143"
            ]
          },
          "metadata": {},
          "execution_count": 15
        }
      ]
    },
    {
      "cell_type": "markdown",
      "metadata": {
        "id": "2AKVlYqEy2Gp"
      },
      "source": [
        "K median\n"
      ]
    },
    {
      "cell_type": "code",
      "metadata": {
        "colab": {
          "base_uri": "https://localhost:8080/"
        },
        "id": "Cwdxb9KhzBff",
        "outputId": "da7daeed-a4c3-4930-d213-e13d1c62e1f9"
      },
      "source": [
        "!pip install scikit-learn-extra\n",
        "\n"
      ],
      "execution_count": null,
      "outputs": [
        {
          "output_type": "stream",
          "name": "stdout",
          "text": [
            "Collecting scikit-learn-extra\n",
            "  Downloading scikit_learn_extra-0.2.0-cp37-cp37m-manylinux2010_x86_64.whl (1.7 MB)\n",
            "\u001b[?25l\r\u001b[K     |▏                               | 10 kB 28.6 MB/s eta 0:00:01\r\u001b[K     |▍                               | 20 kB 23.5 MB/s eta 0:00:01\r\u001b[K     |▋                               | 30 kB 15.3 MB/s eta 0:00:01\r\u001b[K     |▊                               | 40 kB 14.8 MB/s eta 0:00:01\r\u001b[K     |█                               | 51 kB 5.5 MB/s eta 0:00:01\r\u001b[K     |█▏                              | 61 kB 6.0 MB/s eta 0:00:01\r\u001b[K     |█▍                              | 71 kB 5.6 MB/s eta 0:00:01\r\u001b[K     |█▌                              | 81 kB 6.2 MB/s eta 0:00:01\r\u001b[K     |█▊                              | 92 kB 6.1 MB/s eta 0:00:01\r\u001b[K     |██                              | 102 kB 5.3 MB/s eta 0:00:01\r\u001b[K     |██                              | 112 kB 5.3 MB/s eta 0:00:01\r\u001b[K     |██▎                             | 122 kB 5.3 MB/s eta 0:00:01\r\u001b[K     |██▌                             | 133 kB 5.3 MB/s eta 0:00:01\r\u001b[K     |██▊                             | 143 kB 5.3 MB/s eta 0:00:01\r\u001b[K     |██▉                             | 153 kB 5.3 MB/s eta 0:00:01\r\u001b[K     |███                             | 163 kB 5.3 MB/s eta 0:00:01\r\u001b[K     |███▎                            | 174 kB 5.3 MB/s eta 0:00:01\r\u001b[K     |███▌                            | 184 kB 5.3 MB/s eta 0:00:01\r\u001b[K     |███▋                            | 194 kB 5.3 MB/s eta 0:00:01\r\u001b[K     |███▉                            | 204 kB 5.3 MB/s eta 0:00:01\r\u001b[K     |████                            | 215 kB 5.3 MB/s eta 0:00:01\r\u001b[K     |████▏                           | 225 kB 5.3 MB/s eta 0:00:01\r\u001b[K     |████▍                           | 235 kB 5.3 MB/s eta 0:00:01\r\u001b[K     |████▋                           | 245 kB 5.3 MB/s eta 0:00:01\r\u001b[K     |████▉                           | 256 kB 5.3 MB/s eta 0:00:01\r\u001b[K     |█████                           | 266 kB 5.3 MB/s eta 0:00:01\r\u001b[K     |█████▏                          | 276 kB 5.3 MB/s eta 0:00:01\r\u001b[K     |█████▍                          | 286 kB 5.3 MB/s eta 0:00:01\r\u001b[K     |█████▋                          | 296 kB 5.3 MB/s eta 0:00:01\r\u001b[K     |█████▊                          | 307 kB 5.3 MB/s eta 0:00:01\r\u001b[K     |██████                          | 317 kB 5.3 MB/s eta 0:00:01\r\u001b[K     |██████▏                         | 327 kB 5.3 MB/s eta 0:00:01\r\u001b[K     |██████▎                         | 337 kB 5.3 MB/s eta 0:00:01\r\u001b[K     |██████▌                         | 348 kB 5.3 MB/s eta 0:00:01\r\u001b[K     |██████▊                         | 358 kB 5.3 MB/s eta 0:00:01\r\u001b[K     |███████                         | 368 kB 5.3 MB/s eta 0:00:01\r\u001b[K     |███████                         | 378 kB 5.3 MB/s eta 0:00:01\r\u001b[K     |███████▎                        | 389 kB 5.3 MB/s eta 0:00:01\r\u001b[K     |███████▌                        | 399 kB 5.3 MB/s eta 0:00:01\r\u001b[K     |███████▋                        | 409 kB 5.3 MB/s eta 0:00:01\r\u001b[K     |███████▉                        | 419 kB 5.3 MB/s eta 0:00:01\r\u001b[K     |████████                        | 430 kB 5.3 MB/s eta 0:00:01\r\u001b[K     |████████▎                       | 440 kB 5.3 MB/s eta 0:00:01\r\u001b[K     |████████▍                       | 450 kB 5.3 MB/s eta 0:00:01\r\u001b[K     |████████▋                       | 460 kB 5.3 MB/s eta 0:00:01\r\u001b[K     |████████▉                       | 471 kB 5.3 MB/s eta 0:00:01\r\u001b[K     |█████████                       | 481 kB 5.3 MB/s eta 0:00:01\r\u001b[K     |█████████▏                      | 491 kB 5.3 MB/s eta 0:00:01\r\u001b[K     |█████████▍                      | 501 kB 5.3 MB/s eta 0:00:01\r\u001b[K     |█████████▋                      | 512 kB 5.3 MB/s eta 0:00:01\r\u001b[K     |█████████▊                      | 522 kB 5.3 MB/s eta 0:00:01\r\u001b[K     |██████████                      | 532 kB 5.3 MB/s eta 0:00:01\r\u001b[K     |██████████▏                     | 542 kB 5.3 MB/s eta 0:00:01\r\u001b[K     |██████████▍                     | 552 kB 5.3 MB/s eta 0:00:01\r\u001b[K     |██████████▌                     | 563 kB 5.3 MB/s eta 0:00:01\r\u001b[K     |██████████▊                     | 573 kB 5.3 MB/s eta 0:00:01\r\u001b[K     |███████████                     | 583 kB 5.3 MB/s eta 0:00:01\r\u001b[K     |███████████▏                    | 593 kB 5.3 MB/s eta 0:00:01\r\u001b[K     |███████████▎                    | 604 kB 5.3 MB/s eta 0:00:01\r\u001b[K     |███████████▌                    | 614 kB 5.3 MB/s eta 0:00:01\r\u001b[K     |███████████▊                    | 624 kB 5.3 MB/s eta 0:00:01\r\u001b[K     |███████████▉                    | 634 kB 5.3 MB/s eta 0:00:01\r\u001b[K     |████████████                    | 645 kB 5.3 MB/s eta 0:00:01\r\u001b[K     |████████████▎                   | 655 kB 5.3 MB/s eta 0:00:01\r\u001b[K     |████████████▌                   | 665 kB 5.3 MB/s eta 0:00:01\r\u001b[K     |████████████▋                   | 675 kB 5.3 MB/s eta 0:00:01\r\u001b[K     |████████████▉                   | 686 kB 5.3 MB/s eta 0:00:01\r\u001b[K     |█████████████                   | 696 kB 5.3 MB/s eta 0:00:01\r\u001b[K     |█████████████▏                  | 706 kB 5.3 MB/s eta 0:00:01\r\u001b[K     |█████████████▍                  | 716 kB 5.3 MB/s eta 0:00:01\r\u001b[K     |█████████████▋                  | 727 kB 5.3 MB/s eta 0:00:01\r\u001b[K     |█████████████▉                  | 737 kB 5.3 MB/s eta 0:00:01\r\u001b[K     |██████████████                  | 747 kB 5.3 MB/s eta 0:00:01\r\u001b[K     |██████████████▏                 | 757 kB 5.3 MB/s eta 0:00:01\r\u001b[K     |██████████████▍                 | 768 kB 5.3 MB/s eta 0:00:01\r\u001b[K     |██████████████▋                 | 778 kB 5.3 MB/s eta 0:00:01\r\u001b[K     |██████████████▊                 | 788 kB 5.3 MB/s eta 0:00:01\r\u001b[K     |███████████████                 | 798 kB 5.3 MB/s eta 0:00:01\r\u001b[K     |███████████████▏                | 808 kB 5.3 MB/s eta 0:00:01\r\u001b[K     |███████████████▎                | 819 kB 5.3 MB/s eta 0:00:01\r\u001b[K     |███████████████▌                | 829 kB 5.3 MB/s eta 0:00:01\r\u001b[K     |███████████████▊                | 839 kB 5.3 MB/s eta 0:00:01\r\u001b[K     |████████████████                | 849 kB 5.3 MB/s eta 0:00:01\r\u001b[K     |████████████████                | 860 kB 5.3 MB/s eta 0:00:01\r\u001b[K     |████████████████▎               | 870 kB 5.3 MB/s eta 0:00:01\r\u001b[K     |████████████████▌               | 880 kB 5.3 MB/s eta 0:00:01\r\u001b[K     |████████████████▊               | 890 kB 5.3 MB/s eta 0:00:01\r\u001b[K     |████████████████▉               | 901 kB 5.3 MB/s eta 0:00:01\r\u001b[K     |█████████████████               | 911 kB 5.3 MB/s eta 0:00:01\r\u001b[K     |█████████████████▎              | 921 kB 5.3 MB/s eta 0:00:01\r\u001b[K     |█████████████████▍              | 931 kB 5.3 MB/s eta 0:00:01\r\u001b[K     |█████████████████▋              | 942 kB 5.3 MB/s eta 0:00:01\r\u001b[K     |█████████████████▉              | 952 kB 5.3 MB/s eta 0:00:01\r\u001b[K     |██████████████████              | 962 kB 5.3 MB/s eta 0:00:01\r\u001b[K     |██████████████████▏             | 972 kB 5.3 MB/s eta 0:00:01\r\u001b[K     |██████████████████▍             | 983 kB 5.3 MB/s eta 0:00:01\r\u001b[K     |██████████████████▋             | 993 kB 5.3 MB/s eta 0:00:01\r\u001b[K     |██████████████████▊             | 1.0 MB 5.3 MB/s eta 0:00:01\r\u001b[K     |███████████████████             | 1.0 MB 5.3 MB/s eta 0:00:01\r\u001b[K     |███████████████████▏            | 1.0 MB 5.3 MB/s eta 0:00:01\r\u001b[K     |███████████████████▍            | 1.0 MB 5.3 MB/s eta 0:00:01\r\u001b[K     |███████████████████▌            | 1.0 MB 5.3 MB/s eta 0:00:01\r\u001b[K     |███████████████████▊            | 1.1 MB 5.3 MB/s eta 0:00:01\r\u001b[K     |████████████████████            | 1.1 MB 5.3 MB/s eta 0:00:01\r\u001b[K     |████████████████████▏           | 1.1 MB 5.3 MB/s eta 0:00:01\r\u001b[K     |████████████████████▎           | 1.1 MB 5.3 MB/s eta 0:00:01\r\u001b[K     |████████████████████▌           | 1.1 MB 5.3 MB/s eta 0:00:01\r\u001b[K     |████████████████████▊           | 1.1 MB 5.3 MB/s eta 0:00:01\r\u001b[K     |████████████████████▉           | 1.1 MB 5.3 MB/s eta 0:00:01\r\u001b[K     |█████████████████████           | 1.1 MB 5.3 MB/s eta 0:00:01\r\u001b[K     |█████████████████████▎          | 1.1 MB 5.3 MB/s eta 0:00:01\r\u001b[K     |█████████████████████▌          | 1.1 MB 5.3 MB/s eta 0:00:01\r\u001b[K     |█████████████████████▋          | 1.2 MB 5.3 MB/s eta 0:00:01\r\u001b[K     |█████████████████████▉          | 1.2 MB 5.3 MB/s eta 0:00:01\r\u001b[K     |██████████████████████          | 1.2 MB 5.3 MB/s eta 0:00:01\r\u001b[K     |██████████████████████▎         | 1.2 MB 5.3 MB/s eta 0:00:01\r\u001b[K     |██████████████████████▍         | 1.2 MB 5.3 MB/s eta 0:00:01\r\u001b[K     |██████████████████████▋         | 1.2 MB 5.3 MB/s eta 0:00:01\r\u001b[K     |██████████████████████▉         | 1.2 MB 5.3 MB/s eta 0:00:01\r\u001b[K     |███████████████████████         | 1.2 MB 5.3 MB/s eta 0:00:01\r\u001b[K     |███████████████████████▏        | 1.2 MB 5.3 MB/s eta 0:00:01\r\u001b[K     |███████████████████████▍        | 1.2 MB 5.3 MB/s eta 0:00:01\r\u001b[K     |███████████████████████▋        | 1.3 MB 5.3 MB/s eta 0:00:01\r\u001b[K     |███████████████████████▊        | 1.3 MB 5.3 MB/s eta 0:00:01\r\u001b[K     |████████████████████████        | 1.3 MB 5.3 MB/s eta 0:00:01\r\u001b[K     |████████████████████████▏       | 1.3 MB 5.3 MB/s eta 0:00:01\r\u001b[K     |████████████████████████▎       | 1.3 MB 5.3 MB/s eta 0:00:01\r\u001b[K     |████████████████████████▌       | 1.3 MB 5.3 MB/s eta 0:00:01\r\u001b[K     |████████████████████████▊       | 1.3 MB 5.3 MB/s eta 0:00:01\r\u001b[K     |█████████████████████████       | 1.3 MB 5.3 MB/s eta 0:00:01\r\u001b[K     |█████████████████████████       | 1.3 MB 5.3 MB/s eta 0:00:01\r\u001b[K     |█████████████████████████▎      | 1.4 MB 5.3 MB/s eta 0:00:01\r\u001b[K     |█████████████████████████▌      | 1.4 MB 5.3 MB/s eta 0:00:01\r\u001b[K     |█████████████████████████▊      | 1.4 MB 5.3 MB/s eta 0:00:01\r\u001b[K     |█████████████████████████▉      | 1.4 MB 5.3 MB/s eta 0:00:01\r\u001b[K     |██████████████████████████      | 1.4 MB 5.3 MB/s eta 0:00:01\r\u001b[K     |██████████████████████████▎     | 1.4 MB 5.3 MB/s eta 0:00:01\r\u001b[K     |██████████████████████████▍     | 1.4 MB 5.3 MB/s eta 0:00:01\r\u001b[K     |██████████████████████████▋     | 1.4 MB 5.3 MB/s eta 0:00:01\r\u001b[K     |██████████████████████████▉     | 1.4 MB 5.3 MB/s eta 0:00:01\r\u001b[K     |███████████████████████████     | 1.4 MB 5.3 MB/s eta 0:00:01\r\u001b[K     |███████████████████████████▏    | 1.5 MB 5.3 MB/s eta 0:00:01\r\u001b[K     |███████████████████████████▍    | 1.5 MB 5.3 MB/s eta 0:00:01\r\u001b[K     |███████████████████████████▋    | 1.5 MB 5.3 MB/s eta 0:00:01\r\u001b[K     |███████████████████████████▉    | 1.5 MB 5.3 MB/s eta 0:00:01\r\u001b[K     |████████████████████████████    | 1.5 MB 5.3 MB/s eta 0:00:01\r\u001b[K     |████████████████████████████▏   | 1.5 MB 5.3 MB/s eta 0:00:01\r\u001b[K     |████████████████████████████▍   | 1.5 MB 5.3 MB/s eta 0:00:01\r\u001b[K     |████████████████████████████▌   | 1.5 MB 5.3 MB/s eta 0:00:01\r\u001b[K     |████████████████████████████▊   | 1.5 MB 5.3 MB/s eta 0:00:01\r\u001b[K     |█████████████████████████████   | 1.5 MB 5.3 MB/s eta 0:00:01\r\u001b[K     |█████████████████████████████▏  | 1.6 MB 5.3 MB/s eta 0:00:01\r\u001b[K     |█████████████████████████████▎  | 1.6 MB 5.3 MB/s eta 0:00:01\r\u001b[K     |█████████████████████████████▌  | 1.6 MB 5.3 MB/s eta 0:00:01\r\u001b[K     |█████████████████████████████▊  | 1.6 MB 5.3 MB/s eta 0:00:01\r\u001b[K     |█████████████████████████████▉  | 1.6 MB 5.3 MB/s eta 0:00:01\r\u001b[K     |██████████████████████████████  | 1.6 MB 5.3 MB/s eta 0:00:01\r\u001b[K     |██████████████████████████████▎ | 1.6 MB 5.3 MB/s eta 0:00:01\r\u001b[K     |██████████████████████████████▌ | 1.6 MB 5.3 MB/s eta 0:00:01\r\u001b[K     |██████████████████████████████▋ | 1.6 MB 5.3 MB/s eta 0:00:01\r\u001b[K     |██████████████████████████████▉ | 1.6 MB 5.3 MB/s eta 0:00:01\r\u001b[K     |███████████████████████████████ | 1.7 MB 5.3 MB/s eta 0:00:01\r\u001b[K     |███████████████████████████████▎| 1.7 MB 5.3 MB/s eta 0:00:01\r\u001b[K     |███████████████████████████████▍| 1.7 MB 5.3 MB/s eta 0:00:01\r\u001b[K     |███████████████████████████████▋| 1.7 MB 5.3 MB/s eta 0:00:01\r\u001b[K     |███████████████████████████████▉| 1.7 MB 5.3 MB/s eta 0:00:01\r\u001b[K     |████████████████████████████████| 1.7 MB 5.3 MB/s eta 0:00:01\r\u001b[K     |████████████████████████████████| 1.7 MB 5.3 MB/s \n",
            "\u001b[?25hRequirement already satisfied: numpy>=1.13.3 in /usr/local/lib/python3.7/dist-packages (from scikit-learn-extra) (1.19.5)\n",
            "Requirement already satisfied: scikit-learn>=0.23.0 in /usr/local/lib/python3.7/dist-packages (from scikit-learn-extra) (1.0)\n",
            "Requirement already satisfied: scipy>=0.19.1 in /usr/local/lib/python3.7/dist-packages (from scikit-learn-extra) (1.4.1)\n",
            "Requirement already satisfied: threadpoolctl>=2.0.0 in /usr/local/lib/python3.7/dist-packages (from scikit-learn>=0.23.0->scikit-learn-extra) (3.0.0)\n",
            "Requirement already satisfied: joblib>=0.11 in /usr/local/lib/python3.7/dist-packages (from scikit-learn>=0.23.0->scikit-learn-extra) (1.0.1)\n",
            "Installing collected packages: scikit-learn-extra\n",
            "Successfully installed scikit-learn-extra-0.2.0\n"
          ]
        }
      ]
    },
    {
      "cell_type": "code",
      "metadata": {
        "id": "7SL2xRxVxg3C"
      },
      "source": [
        "from sklearn_extra.cluster import KMedoids\n",
        "import numpy as np"
      ],
      "execution_count": null,
      "outputs": []
    },
    {
      "cell_type": "code",
      "metadata": {
        "id": "dpZObByRy4hl"
      },
      "source": [
        "kmedoids = KMedoids(n_clusters=10, random_state=10).fit(X_train)\n",
        "kmedoids.labels_\n"
      ],
      "execution_count": null,
      "outputs": []
    },
    {
      "cell_type": "code",
      "metadata": {
        "id": "EST4UXwezSPO"
      },
      "source": [
        "array([0, 0, 0, 1, 1, 1])\n",
        "kmedoids.predict([[0,0], [4,4]])\n",
        "array([0, 1])\n",
        "kmedoids.cluster_centers_\n",
        "array([[1, 2],\n",
        "       [4, 2]])\n",
        "kmedoids.inertia_"
      ],
      "execution_count": null,
      "outputs": []
    },
    {
      "cell_type": "markdown",
      "metadata": {
        "id": "j-Hb05QV24ih"
      },
      "source": [
        "mean shift"
      ]
    },
    {
      "cell_type": "code",
      "metadata": {
        "id": "Otxy9noY254N"
      },
      "source": [
        "from sklearn.cluster import MeanShift\n",
        "import numpy as np\n"
      ],
      "execution_count": 8,
      "outputs": []
    },
    {
      "cell_type": "code",
      "metadata": {
        "id": "zl1Gf8CW29WY",
        "colab": {
          "base_uri": "https://localhost:8080/"
        },
        "outputId": "1140a727-9895-4d79-bc5b-8af290074557"
      },
      "source": [
        "clustering = MeanShift(bandwidth=10,bin_seeding = True).fit(X_train)\n",
        "clustering.labels_\n"
      ],
      "execution_count": 16,
      "outputs": [
        {
          "output_type": "execute_result",
          "data": {
            "text/plain": [
              "array([0, 0, 0, ..., 0, 0, 0])"
            ]
          },
          "metadata": {},
          "execution_count": 16
        }
      ]
    },
    {
      "cell_type": "code",
      "metadata": {
        "colab": {
          "base_uri": "https://localhost:8080/"
        },
        "id": "cdaGpH2XrtOg",
        "outputId": "f176a0bb-bf7a-403b-a6b7-674e3f9d239f"
      },
      "source": [
        "purity_score(y_train,clustering.labels_)"
      ],
      "execution_count": 17,
      "outputs": [
        {
          "output_type": "execute_result",
          "data": {
            "text/plain": [
              "0.11236666666666667"
            ]
          },
          "metadata": {},
          "execution_count": 17
        }
      ]
    },
    {
      "cell_type": "code",
      "metadata": {
        "colab": {
          "base_uri": "https://localhost:8080/"
        },
        "id": "3dHxUpVFsCMI",
        "outputId": "7b0d45c6-d15f-4492-b231-b0a41b64f9e8"
      },
      "source": [
        "rand_score(clustering.labels_,y_train)"
      ],
      "execution_count": 18,
      "outputs": [
        {
          "output_type": "execute_result",
          "data": {
            "text/plain": [
              "0.10027316399717773"
            ]
          },
          "metadata": {},
          "execution_count": 18
        }
      ]
    },
    {
      "cell_type": "markdown",
      "metadata": {
        "id": "n68aWVE95TYG"
      },
      "source": [
        "DBSCAN"
      ]
    },
    {
      "cell_type": "code",
      "metadata": {
        "id": "z2vAxvf15UoA"
      },
      "source": [
        "from sklearn.cluster import DBSCAN\n"
      ],
      "execution_count": null,
      "outputs": []
    },
    {
      "cell_type": "code",
      "metadata": {
        "colab": {
          "base_uri": "https://localhost:8080/"
        },
        "id": "SNbGWVjo5gUy",
        "outputId": "3b465782-aec8-4383-8a13-e4d3edc42da9"
      },
      "source": [
        "clustering = DBSCAN(eps=2, min_samples=10).fit(X_train)\n",
        "clustering.labels_"
      ],
      "execution_count": null,
      "outputs": [
        {
          "output_type": "execute_result",
          "data": {
            "text/plain": [
              "array([-1, -1, -1, ..., -1, -1, -1])"
            ]
          },
          "metadata": {},
          "execution_count": 7
        }
      ]
    },
    {
      "cell_type": "code",
      "metadata": {
        "colab": {
          "base_uri": "https://localhost:8080/"
        },
        "id": "dF1QsSwjdSuY",
        "outputId": "3dc53e3d-518f-41ae-9d2d-437a3fc1e439"
      },
      "source": [
        "purity_score(y_train,clustering.labels_)"
      ],
      "execution_count": null,
      "outputs": [
        {
          "output_type": "execute_result",
          "data": {
            "text/plain": [
              "0.16733333333333333"
            ]
          },
          "metadata": {},
          "execution_count": 10
        }
      ]
    },
    {
      "cell_type": "code",
      "metadata": {
        "colab": {
          "base_uri": "https://localhost:8080/"
        },
        "id": "gex85aH6TIn7",
        "outputId": "6fae4d4a-39e3-4415-9bb7-6377db2288a7"
      },
      "source": [
        "rand_score(clustering.labels_,y_train)"
      ],
      "execution_count": null,
      "outputs": [
        {
          "output_type": "execute_result",
          "data": {
            "text/plain": [
              "0.20569828719367544"
            ]
          },
          "metadata": {},
          "execution_count": 9
        }
      ]
    },
    {
      "cell_type": "code",
      "metadata": {
        "id": "znr9VAhNTZdx",
        "colab": {
          "base_uri": "https://localhost:8080/"
        },
        "outputId": "e4ada401-97a2-4129-a5b7-9fd8ea2c71fd"
      },
      "source": [
        "clustering1 = DBSCAN(eps=3, min_samples=10).fit(X_train)\n",
        "clustering1.labels_"
      ],
      "execution_count": null,
      "outputs": [
        {
          "output_type": "execute_result",
          "data": {
            "text/plain": [
              "array([-1, -1, -1, ..., -1, -1, -1])"
            ]
          },
          "metadata": {},
          "execution_count": 11
        }
      ]
    },
    {
      "cell_type": "code",
      "metadata": {
        "colab": {
          "base_uri": "https://localhost:8080/"
        },
        "id": "cUygTxL5cZI-",
        "outputId": "01e48318-bef9-4808-886d-da9afb226af3"
      },
      "source": [
        "purity_score(y_train,clustering1.labels_)"
      ],
      "execution_count": null,
      "outputs": [
        {
          "output_type": "execute_result",
          "data": {
            "text/plain": [
              "0.20835"
            ]
          },
          "metadata": {},
          "execution_count": 12
        }
      ]
    },
    {
      "cell_type": "code",
      "metadata": {
        "colab": {
          "base_uri": "https://localhost:8080/"
        },
        "id": "wr74C1IWf20w",
        "outputId": "6c49dfeb-69dd-4f88-e6ef-9651c5c4de19"
      },
      "source": [
        "rand_score(clustering1.labels_,y_train)"
      ],
      "execution_count": null,
      "outputs": [
        {
          "output_type": "execute_result",
          "data": {
            "text/plain": [
              "0.286215336922282"
            ]
          },
          "metadata": {},
          "execution_count": 16
        }
      ]
    },
    {
      "cell_type": "code",
      "metadata": {
        "colab": {
          "base_uri": "https://localhost:8080/"
        },
        "id": "MwMrt5eOf5yq",
        "outputId": "6e819db5-7a81-4f7d-b3de-795f8c7b23f1"
      },
      "source": [
        "clustering2 = DBSCAN(eps=5, min_samples=5).fit(X_train)\n",
        "clustering2.labels_"
      ],
      "execution_count": null,
      "outputs": [
        {
          "output_type": "execute_result",
          "data": {
            "text/plain": [
              "array([-1,  0, -1, ...,  0,  0, -1])"
            ]
          },
          "metadata": {},
          "execution_count": 14
        }
      ]
    },
    {
      "cell_type": "code",
      "metadata": {
        "colab": {
          "base_uri": "https://localhost:8080/"
        },
        "id": "WX-k0yX4g8yP",
        "outputId": "ecc98756-74ed-440a-83a7-fea8f2de49f1"
      },
      "source": [
        "purity_score(y_train,clustering2.labels_)"
      ],
      "execution_count": null,
      "outputs": [
        {
          "output_type": "execute_result",
          "data": {
            "text/plain": [
              "0.19828333333333334"
            ]
          },
          "metadata": {},
          "execution_count": 15
        }
      ]
    },
    {
      "cell_type": "code",
      "metadata": {
        "colab": {
          "base_uri": "https://localhost:8080/"
        },
        "id": "1fGtNpikg_1R",
        "outputId": "fbc20d1d-32e4-488e-c0f9-339e4e733bc7"
      },
      "source": [
        "rand_score(clustering2.labels_,y_train)"
      ],
      "execution_count": null,
      "outputs": [
        {
          "output_type": "execute_result",
          "data": {
            "text/plain": [
              "0.4836267743351278"
            ]
          },
          "metadata": {},
          "execution_count": 17
        }
      ]
    },
    {
      "cell_type": "code",
      "metadata": {
        "id": "jvvWtk5ahMGh"
      },
      "source": [
        "clustering3 = DBSCAN(eps=8, min_samples=5).fit(X_train)\n"
      ],
      "execution_count": null,
      "outputs": []
    },
    {
      "cell_type": "code",
      "metadata": {
        "colab": {
          "base_uri": "https://localhost:8080/"
        },
        "id": "S-BFDCtThMNH",
        "outputId": "1ff85373-2a63-4264-8a53-492801245194"
      },
      "source": [
        "purity_score(y_train,clustering3.labels_)"
      ],
      "execution_count": null,
      "outputs": [
        {
          "output_type": "execute_result",
          "data": {
            "text/plain": [
              "0.11255"
            ]
          },
          "metadata": {},
          "execution_count": 19
        }
      ]
    },
    {
      "cell_type": "code",
      "metadata": {
        "colab": {
          "base_uri": "https://localhost:8080/"
        },
        "id": "LWuo3p7JhMQf",
        "outputId": "84daf1e8-9649-4085-9177-40966e2b8bbd"
      },
      "source": [
        "rand_score(clustering3.labels_,y_train)"
      ],
      "execution_count": null,
      "outputs": [
        {
          "output_type": "execute_result",
          "data": {
            "text/plain": [
              "0.10070263782174148"
            ]
          },
          "metadata": {},
          "execution_count": 20
        }
      ]
    },
    {
      "cell_type": "code",
      "metadata": {
        "id": "NVd_AfU-hMS-"
      },
      "source": [
        ""
      ],
      "execution_count": null,
      "outputs": []
    },
    {
      "cell_type": "markdown",
      "metadata": {
        "id": "nyv5bDRVccA8"
      },
      "source": [
        "**Agglomerative**"
      ]
    },
    {
      "cell_type": "code",
      "metadata": {
        "id": "XkuKsvR1cZ7C"
      },
      "source": [
        "from sklearn.cluster import AgglomerativeClustering\n",
        "import numpy as np"
      ],
      "execution_count": null,
      "outputs": []
    },
    {
      "cell_type": "code",
      "metadata": {
        "id": "FDPJQdD4cjlU"
      },
      "source": [
        "clustering = AgglomerativeClustering(n_clusters= 10, linkage='single').fit(X_train)"
      ],
      "execution_count": null,
      "outputs": []
    },
    {
      "cell_type": "code",
      "metadata": {
        "id": "jYPnzyH0eJOL",
        "colab": {
          "base_uri": "https://localhost:8080/"
        },
        "outputId": "8ccb9a0d-f504-426e-d93f-7e0d2d53694f"
      },
      "source": [
        "clustering.labels_"
      ],
      "execution_count": null,
      "outputs": [
        {
          "output_type": "execute_result",
          "data": {
            "text/plain": [
              "array([0, 0, 0, ..., 0, 0, 0])"
            ]
          },
          "metadata": {},
          "execution_count": 14
        }
      ]
    },
    {
      "cell_type": "code",
      "metadata": {
        "colab": {
          "base_uri": "https://localhost:8080/"
        },
        "id": "rakjEyg4v-E9",
        "outputId": "4568fb56-05a8-4e27-85f7-e5c39775e239"
      },
      "source": [
        "purity_score(y_train,clustering.labels_)"
      ],
      "execution_count": null,
      "outputs": [
        {
          "output_type": "execute_result",
          "data": {
            "text/plain": [
              "0.11251666666666667"
            ]
          },
          "metadata": {},
          "execution_count": 16
        }
      ]
    },
    {
      "cell_type": "code",
      "metadata": {
        "colab": {
          "base_uri": "https://localhost:8080/"
        },
        "id": "LJHgIYylv5aK",
        "outputId": "58a0b605-47fc-4243-abdb-66463fea6230"
      },
      "source": [
        "rand_score(clustering.labels_,y_train)"
      ],
      "execution_count": null,
      "outputs": [
        {
          "output_type": "execute_result",
          "data": {
            "text/plain": [
              "0.10051444190736512"
            ]
          },
          "metadata": {},
          "execution_count": 17
        }
      ]
    },
    {
      "cell_type": "code",
      "metadata": {
        "id": "DLU8bb4PwD8l"
      },
      "source": [
        "clustering1 = AgglomerativeClustering(n_clusters= 10, linkage='average').fit(X_train)"
      ],
      "execution_count": null,
      "outputs": []
    },
    {
      "cell_type": "code",
      "metadata": {
        "id": "6N5F0T1qwIfc"
      },
      "source": [
        " "
      ],
      "execution_count": null,
      "outputs": []
    }
  ]
}